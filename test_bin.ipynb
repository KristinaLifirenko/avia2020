{
 "cells": [
  {
   "cell_type": "code",
   "execution_count": 30,
   "metadata": {
    "ExecuteTime": {
     "end_time": "2020-05-09T14:43:39.036842Z",
     "start_time": "2020-05-09T14:43:39.031343Z"
    }
   },
   "outputs": [],
   "source": [
    "from greedypacker import *"
   ]
  },
  {
   "cell_type": "code",
   "execution_count": 54,
   "metadata": {
    "ExecuteTime": {
     "end_time": "2020-05-09T14:49:43.220728Z",
     "start_time": "2020-05-09T14:49:43.211693Z"
    }
   },
   "outputs": [
    {
     "data": {
      "text/plain": [
       "[Sheet(width=4, height=8, available_height=3, shelves=[{'y': 3, 'x': 4, 'available_width': 0, 'area': 3, 'vertical_offset': 0, 'items': [Item(width=3, height=3, x=0, y=0)]}, {'y': 2, 'x': 4, 'available_width': 2, 'area': 4, 'vertical_offset': 3, 'items': [Item(width=2, height=2, x=0, y=3)]}])]"
      ]
     },
     "execution_count": 54,
     "metadata": {},
     "output_type": "execute_result"
    }
   ],
   "source": [
    "M = greedypacker.BinManager(4, 8, pack_algo='shelf', heuristic='best_width_fit', wastemap=True, rotation=True)\n",
    "\n",
    "ITEM = greedypacker.Item(1, 1)\n",
    "ITEM2 = greedypacker.Item(2, 2)\n",
    "ITEM3 = greedypacker.Item(3, 3)\n",
    "\n",
    "M.add_items(ITEM, ITEM2, ITEM3)\n",
    "\n",
    "M.execute()\n",
    "M.bins"
   ]
  },
  {
   "cell_type": "code",
   "execution_count": 51,
   "metadata": {
    "ExecuteTime": {
     "end_time": "2020-05-09T14:48:07.643374Z",
     "start_time": "2020-05-09T14:48:07.634227Z"
    }
   },
   "outputs": [
    {
     "data": {
      "text/plain": [
       "[Sheet(width=8, height=8, available_height=6, shelves=[{'y': 2, 'x': 8, 'available_width': 3, 'area': 6, 'vertical_offset': 0, 'items': [Item(width=2, height=2, x=0, y=0), Item(width=2, height=2, x=2, y=0), Item(width=1, height=1, x=4, y=0)]}])]"
      ]
     },
     "execution_count": 51,
     "metadata": {},
     "output_type": "execute_result"
    }
   ],
   "source": []
  }
 ],
 "metadata": {
  "kernelspec": {
   "display_name": "Python 3",
   "language": "python",
   "name": "python3"
  },
  "language_info": {
   "codemirror_mode": {
    "name": "ipython",
    "version": 3
   },
   "file_extension": ".py",
   "mimetype": "text/x-python",
   "name": "python",
   "nbconvert_exporter": "python",
   "pygments_lexer": "ipython3",
   "version": "3.7.6"
  },
  "toc": {
   "base_numbering": 1,
   "nav_menu": {},
   "number_sections": true,
   "sideBar": true,
   "skip_h1_title": false,
   "title_cell": "Table of Contents",
   "title_sidebar": "Contents",
   "toc_cell": false,
   "toc_position": {},
   "toc_section_display": true,
   "toc_window_display": false
  },
  "varInspector": {
   "cols": {
    "lenName": 16,
    "lenType": 16,
    "lenVar": 40
   },
   "kernels_config": {
    "python": {
     "delete_cmd_postfix": "",
     "delete_cmd_prefix": "del ",
     "library": "var_list.py",
     "varRefreshCmd": "print(var_dic_list())"
    },
    "r": {
     "delete_cmd_postfix": ") ",
     "delete_cmd_prefix": "rm(",
     "library": "var_list.r",
     "varRefreshCmd": "cat(var_dic_list()) "
    }
   },
   "types_to_exclude": [
    "module",
    "function",
    "builtin_function_or_method",
    "instance",
    "_Feature"
   ],
   "window_display": false
  }
 },
 "nbformat": 4,
 "nbformat_minor": 4
}
