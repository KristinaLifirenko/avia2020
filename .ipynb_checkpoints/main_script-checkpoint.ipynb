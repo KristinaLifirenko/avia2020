{
 "cells": [
  {
   "cell_type": "code",
   "execution_count": 341,
   "metadata": {
    "ExecuteTime": {
     "end_time": "2020-05-10T07:20:07.255499Z",
     "start_time": "2020-05-10T07:20:07.215691Z"
    }
   },
   "outputs": [],
   "source": [
    "import numpy as np\n",
    "import pandas as pd\n",
    "import re\n",
    "from greedypacker import *\n",
    "from greedypacker import greedypacker\n",
    "\n",
    "import warnings\n",
    "warnings.filterwarnings('ignore')"
   ]
  },
  {
   "cell_type": "code",
   "execution_count": 342,
   "metadata": {
    "ExecuteTime": {
     "end_time": "2020-05-10T07:20:08.483900Z",
     "start_time": "2020-05-10T07:20:07.266499Z"
    }
   },
   "outputs": [],
   "source": [
    "#загружаем из эксель листы с данными\n",
    "data = 'data/data_source.xlsx'\n",
    "\n",
    "hangars =pd.read_excel(data, sheet_name='Ангары', index_col=None)\n",
    "aircompany = pd.read_excel(data, sheet_name='Авиакомпании', index_col=None)\n",
    "aircrafts = pd.read_excel(data, sheet_name='Типы ВС', index_col=None)\n",
    "maintenance =  pd.read_excel(data, sheet_name='Типы ТО', index_col=None)\n",
    "needs = pd.read_excel(data, sheet_name='Потребность Авиакомпаний', index_col=None)"
   ]
  },
  {
   "cell_type": "code",
   "execution_count": 343,
   "metadata": {
    "ExecuteTime": {
     "end_time": "2020-05-10T07:20:08.508803Z",
     "start_time": "2020-05-10T07:20:08.486856Z"
    }
   },
   "outputs": [],
   "source": [
    "#заполняем пропуски в данных 0\n",
    "maintenance.fillna(0, inplace = True)\n",
    "needs.fillna(0,inplace=True)\n",
    "needs = needs.iloc[:-1, :-1]\n",
    "maintenance = maintenance.iloc[:, :-1]"
   ]
  },
  {
   "cell_type": "code",
   "execution_count": 344,
   "metadata": {
    "ExecuteTime": {
     "end_time": "2020-05-10T07:20:08.521719Z",
     "start_time": "2020-05-10T07:20:08.511413Z"
    }
   },
   "outputs": [],
   "source": [
    "needs['serviced'] = 0"
   ]
  },
  {
   "cell_type": "code",
   "execution_count": 345,
   "metadata": {
    "ExecuteTime": {
     "end_time": "2020-05-10T07:20:08.544709Z",
     "start_time": "2020-05-10T07:20:08.524262Z"
    }
   },
   "outputs": [],
   "source": [
    "new_df = pd.merge(needs, maintenance, how='inner', on=['Формат ТО','Тип ВС'])"
   ]
  },
  {
   "cell_type": "code",
   "execution_count": 346,
   "metadata": {
    "ExecuteTime": {
     "end_time": "2020-05-10T07:20:08.566513Z",
     "start_time": "2020-05-10T07:20:08.549462Z"
    }
   },
   "outputs": [],
   "source": [
    "new_df = pd.merge(new_df, aircompany, how='inner')"
   ]
  },
  {
   "cell_type": "code",
   "execution_count": 347,
   "metadata": {
    "ExecuteTime": {
     "end_time": "2020-05-10T07:20:08.580770Z",
     "start_time": "2020-05-10T07:20:08.570065Z"
    }
   },
   "outputs": [],
   "source": [
    "new_df = pd.merge(new_df, aircrafts, how='inner')"
   ]
  },
  {
   "cell_type": "code",
   "execution_count": 348,
   "metadata": {
    "ExecuteTime": {
     "end_time": "2020-05-10T07:20:08.590153Z",
     "start_time": "2020-05-10T07:20:08.583290Z"
    }
   },
   "outputs": [],
   "source": [
    "new_df['aircraft square'] = new_df['Длина, м']*new_df['Размах крыла, м']"
   ]
  },
  {
   "cell_type": "code",
   "execution_count": 349,
   "metadata": {
    "ExecuteTime": {
     "end_time": "2020-05-10T07:20:08.607203Z",
     "start_time": "2020-05-10T07:20:08.596429Z"
    }
   },
   "outputs": [],
   "source": [
    "new_df['SVO revenue']= new_df['Длительность, \\nдней']*new_df['SVO \\n(стоимость 1 дня), руб']\n",
    "new_df['DME revenue']= new_df['Длительность, \\nдней']*new_df['DME \\n(стоимость 1 дня), руб']\n",
    "new_df['VKO revenue']= new_df['Длительность, \\nдней']*new_df['VKO \\n(стоимость 1 дня), руб']"
   ]
  },
  {
   "cell_type": "code",
   "execution_count": 350,
   "metadata": {
    "ExecuteTime": {
     "end_time": "2020-05-10T07:20:08.621354Z",
     "start_time": "2020-05-10T07:20:08.611756Z"
    },
    "scrolled": false
   },
   "outputs": [],
   "source": [
    "new_df['season duration'] = new_df['Окончание сезона технического обслуживания'] - new_df['Начало сезона технического обслуживания']"
   ]
  },
  {
   "cell_type": "code",
   "execution_count": 351,
   "metadata": {
    "ExecuteTime": {
     "end_time": "2020-05-10T07:20:08.628962Z",
     "start_time": "2020-05-10T07:20:08.625249Z"
    }
   },
   "outputs": [],
   "source": [
    "cols = new_df.columns"
   ]
  },
  {
   "cell_type": "code",
   "execution_count": 352,
   "metadata": {
    "ExecuteTime": {
     "end_time": "2020-05-10T07:20:08.652743Z",
     "start_time": "2020-05-10T07:20:08.634219Z"
    }
   },
   "outputs": [],
   "source": [
    "df = pd.DataFrame(np.repeat(new_df.values, new_df['Потребность авиакомпании, штук'].values, axis=0), columns=cols)"
   ]
  },
  {
   "cell_type": "code",
   "execution_count": 353,
   "metadata": {
    "ExecuteTime": {
     "end_time": "2020-05-10T07:20:08.662902Z",
     "start_time": "2020-05-10T07:20:08.656156Z"
    }
   },
   "outputs": [],
   "source": [
    "df['Total revenue']= df['SVO revenue']+df['DME revenue']+df['VKO revenue']"
   ]
  },
  {
   "cell_type": "code",
   "execution_count": 354,
   "metadata": {
    "ExecuteTime": {
     "end_time": "2020-05-10T07:20:08.673103Z",
     "start_time": "2020-05-10T07:20:08.666837Z"
    }
   },
   "outputs": [],
   "source": [
    "cols = ['Формат ТО', 'Тип ВС','SVO \\n(стоимость 1 дня), руб', 'DME \\n(стоимость 1 дня), руб', 'VKO \\n(стоимость 1 дня), руб',\n",
    "        'Авиакомпания','Потребность авиакомпании, штук',\n",
    "        'Минимальное количество форм ТО, \\nкоторое необходимо выполнить по контракту, штук',\n",
    "               'serviced',\n",
    "        'Длина, м', 'Размах крыла, м', 'aircraft square',\n",
    "       'Длительность, \\nдней',\n",
    "       'Начало сезона технического обслуживания',\n",
    "       'Окончание сезона технического обслуживания', 'season duration', \n",
    "        'Штрафной коэффициент',\n",
    "        'SVO revenue',\n",
    "       'DME revenue', 'VKO revenue','Total revenue']"
   ]
  },
  {
   "cell_type": "code",
   "execution_count": 355,
   "metadata": {
    "ExecuteTime": {
     "end_time": "2020-05-10T07:20:08.682816Z",
     "start_time": "2020-05-10T07:20:08.676599Z"
    },
    "scrolled": true
   },
   "outputs": [],
   "source": [
    "df = df[cols]"
   ]
  },
  {
   "cell_type": "code",
   "execution_count": 356,
   "metadata": {
    "ExecuteTime": {
     "end_time": "2020-05-10T07:20:08.692642Z",
     "start_time": "2020-05-10T07:20:08.686134Z"
    }
   },
   "outputs": [],
   "source": [
    "df.columns = ['ТО', 'ВС', 'стоимость_SVO',\n",
    "       'стоимость_DME', 'стоимость_VKO',\n",
    "       'Авиакомпания', 'Потребность авиакомпании, штук',\n",
    "       'minimum plan',\n",
    "       'serviced', 'dlina', 'razmah', 'aircraft_square',\n",
    "       'duration', 'start_season',\n",
    "       'end_season', 'season duration',\n",
    "       'penalty', 'SVO_revenue', 'DME_revenue', 'VKO_revenue',\n",
    "       'total_revenue']"
   ]
  },
  {
   "cell_type": "code",
   "execution_count": 357,
   "metadata": {
    "ExecuteTime": {
     "end_time": "2020-05-10T07:20:08.707002Z",
     "start_time": "2020-05-10T07:20:08.698574Z"
    }
   },
   "outputs": [],
   "source": [
    "df = df[['ТО', 'ВС', 'стоимость_SVO',\n",
    "       'стоимость_DME', 'стоимость_VKO',\n",
    "       'Авиакомпания', 'Потребность авиакомпании, штук',\n",
    "       'minimum plan', 'serviced',\n",
    "        'dlina', 'razmah', 'aircraft_square',\n",
    "       'duration', 'start_season',\n",
    "       'end_season', 'season duration',\n",
    "       'penalty', 'SVO_revenue', 'DME_revenue', 'VKO_revenue',\n",
    "       'total_revenue']]"
   ]
  },
  {
   "cell_type": "code",
   "execution_count": 358,
   "metadata": {
    "ExecuteTime": {
     "end_time": "2020-05-10T07:20:08.717041Z",
     "start_time": "2020-05-10T07:20:08.709205Z"
    }
   },
   "outputs": [],
   "source": [
    "df['min_plan']=0"
   ]
  },
  {
   "cell_type": "code",
   "execution_count": 359,
   "metadata": {
    "ExecuteTime": {
     "end_time": "2020-05-10T07:20:08.730846Z",
     "start_time": "2020-05-10T07:20:08.723529Z"
    }
   },
   "outputs": [],
   "source": [
    "df_test = df.copy()"
   ]
  },
  {
   "cell_type": "code",
   "execution_count": 360,
   "metadata": {
    "ExecuteTime": {
     "end_time": "2020-05-10T07:20:08.892973Z",
     "start_time": "2020-05-10T07:20:08.736740Z"
    }
   },
   "outputs": [],
   "source": [
    "key = df_test.iloc[0,0] + df_test.iloc[0,1] \n",
    "counter = df_test.iloc[0,7]\n",
    "\n",
    "for i in range(0,df_test.shape[0],1):\n",
    "    k = df_test.iloc[i,0] + df_test.iloc[i,1]\n",
    "    if k == key:\n",
    "        if counter !=0:\n",
    "            df_test.iloc[i,21] = 1\n",
    "            counter = counter - 1\n",
    "        else:\n",
    "            df_test.iloc[i,21] = 0\n",
    "    else:\n",
    "        key = k\n",
    "        counter = df_test.iloc[i,7]\n",
    "        if counter !=0:\n",
    "            df_test.iloc[i,21] = 1\n",
    "            counter = counter - 1\n",
    "        else:\n",
    "            df_test.iloc[i,21] = 0"
   ]
  },
  {
   "cell_type": "code",
   "execution_count": 361,
   "metadata": {
    "ExecuteTime": {
     "end_time": "2020-05-10T07:20:08.901900Z",
     "start_time": "2020-05-10T07:20:08.894823Z"
    },
    "scrolled": true
   },
   "outputs": [],
   "source": [
    "df_test = df_test.drop(['Потребность авиакомпании, штук','minimum plan'], axis=1)"
   ]
  },
  {
   "cell_type": "code",
   "execution_count": 362,
   "metadata": {
    "ExecuteTime": {
     "end_time": "2020-05-10T07:20:08.911156Z",
     "start_time": "2020-05-10T07:20:08.904400Z"
    }
   },
   "outputs": [],
   "source": [
    "df_test = df_test[['ТО', 'ВС', 'стоимость_SVO', 'стоимость_DME', 'стоимость_VKO',\n",
    "       'Авиакомпания','min_plan', 'serviced', 'dlina', 'razmah', 'aircraft_square',\n",
    "       'duration', 'start_season', 'end_season', 'season duration', 'penalty',\n",
    "       'SVO_revenue', 'DME_revenue', 'VKO_revenue', 'total_revenue']]"
   ]
  },
  {
   "cell_type": "code",
   "execution_count": 363,
   "metadata": {
    "ExecuteTime": {
     "end_time": "2020-05-10T07:20:09.116696Z",
     "start_time": "2020-05-10T07:20:08.915893Z"
    }
   },
   "outputs": [],
   "source": [
    "SVO_width = 200\n",
    "SVO_deep = 90\n",
    "SVO_area = SVO_width * SVO_deep\n",
    "\n",
    "DME_width = 300\n",
    "DME_deep = 80\n",
    "DME_area = DME_width * DME_deep\n",
    "\n",
    "\n",
    "df['SVO_rating'] = None\n",
    "df['DME_rating'] = None\n",
    "df['VKO_rating'] = None\n",
    "\n",
    "for i in range(len(df)):\n",
    "    df['SVO_rating'][i] = df.SVO_revenue[i] / (df.aircraft_square[i] + df.duration[i]) \n",
    "    df['DME_rating'][i] = df.DME_revenue[i] / (df.aircraft_square[i] + df.duration[i])\n",
    "    df['VKO_rating'][i] = df.VKO_revenue[i] / (df.aircraft_square[i] + df.duration[i])  \n",
    "\n",
    "df['days_since_start'] = 0\n",
    "\n",
    "# flag of priority hangar for a plane\n",
    "df['SVO'] = 0\n",
    "df['DME'] = 0\n",
    "df['VKO'] = 0\n",
    "df['in_service'] = 0 # флаг, самолет в обслуживании в ангаре или нет (0 - нет, 1 - обслуживается)\n",
    "df['x'] = -1 # координаты размещения самолета в ангаре\n",
    "df['y'] = -1 # # координаты размещения самолета в ангаре\n",
    "\n",
    "\n",
    "for i in range(len(df)):\n",
    "    \n",
    "    options = [df['SVO_rating'][i], df['DME_rating'][i], df['VKO_rating'][i]]\n",
    "    best_option = options.index(max(options))\n",
    "    \n",
    "    if best_option == 0:\n",
    "        df['SVO'][i] = 1\n",
    "    elif best_option == 1:\n",
    "        df['DME'][i] = 1\n",
    "    else:\n",
    "        df['VKO'][i] = 1"
   ]
  },
  {
   "cell_type": "code",
   "execution_count": 364,
   "metadata": {
    "ExecuteTime": {
     "end_time": "2020-05-10T07:20:09.133367Z",
     "start_time": "2020-05-10T07:20:09.119050Z"
    }
   },
   "outputs": [],
   "source": [
    "def SVO_packing(df): \n",
    "\n",
    "    SVO_hangar = df.query('SVO == 1 and in_service == 0 and serviced == 0')\n",
    "    SVO_hangar.sort_values(by='SVO_rating', ascending = False, inplace = True) \n",
    "\n",
    "    plane_to_SVO = SVO_hangar.index #индексы DF самолетов - претендентов на ангар SVO\n",
    "\n",
    "    SVO_plan = greedypacker.BinManager(SVO_deep, SVO_width, pack_algo='guillotine', heuristic='best_longside', rectangle_merge=True, rotation=True)\n",
    "\n",
    "    levels = 1 # количество уровней размещения самолетов в ангаре (выбран 1)\n",
    "\n",
    "    plane = 0 #счетчик самолетов по списку претендентов\n",
    "    \n",
    "    final_list = []\n",
    "    \n",
    "    while len(SVO_plan.bins) <= levels: \n",
    "        try:\n",
    "            if SVO_plan.bins[1] != True:\n",
    "                final_list = final_list[:-1]\n",
    "                for item in final_list:\n",
    "                    plane_width = SVO_hangar['razmah'][plane_to_SVO[item]]\n",
    "                    plane_length = SVO_hangar['dlina'][plane_to_SVO[item]]\n",
    "                    SVO_plan.add_items(greedypacker.Item(plane_width, plane_length))\n",
    "                    SVO_plan.execute()    \n",
    "                break\n",
    "                \n",
    "        except:\n",
    "            plane_width = SVO_hangar['razmah'][plane_to_SVO[plane]]\n",
    "            plane_length = SVO_hangar['dlina'][plane_to_SVO[plane]]\n",
    "\n",
    "            SVO_plan.add_items(greedypacker.Item(plane_width, plane_length))\n",
    "            SVO_plan.execute()\n",
    "            final_list.append(plane_to_SVO[plane])\n",
    "            plane += 1\n",
    "\n",
    "    items = str(SVO_plan.bins[0]).split('Item')[1:]\n",
    "    template = r'[a-zA-Z,=,(,)]'\n",
    "\n",
    "    for item in items: \n",
    "        position = re.sub(template,'',item)\n",
    "        position = re.sub(']','',position).split(' ')\n",
    "\n",
    "        for plane in plane_to_SVO:\n",
    "\n",
    "            razmah = round(df.loc[plane]['razmah'],2)\n",
    "            dlina = round(df.loc[plane]['dlina'],2)\n",
    "\n",
    "            if all([razmah == float(position[0]), dlina == float(position[1]), float(df.loc[plane]['in_service']) == 0]):\n",
    "                df.loc[plane,'x'] = float(position[2])\n",
    "                df.loc[plane,'y'] = float(position[3])\n",
    "                df.loc[plane,'in_service'] = 1\n",
    "                break\n",
    "            else:\n",
    "                continue\n",
    "    print(SVO_plan.bins[1])\n",
    "    return df"
   ]
  },
  {
   "cell_type": "code",
   "execution_count": 365,
   "metadata": {
    "ExecuteTime": {
     "end_time": "2020-05-10T07:20:09.291145Z",
     "start_time": "2020-05-10T07:20:09.135660Z"
    }
   },
   "outputs": [
    {
     "name": "stdout",
     "output_type": "stream",
     "text": [
      "Guillotine([Item(width=34.1, height=37.57, x=0, y=0), Item(width=34.1, height=37.57, x=34.1, y=0)])\n"
     ]
    },
    {
     "data": {
      "text/html": [
       "<div>\n",
       "<style scoped>\n",
       "    .dataframe tbody tr th:only-of-type {\n",
       "        vertical-align: middle;\n",
       "    }\n",
       "\n",
       "    .dataframe tbody tr th {\n",
       "        vertical-align: top;\n",
       "    }\n",
       "\n",
       "    .dataframe thead th {\n",
       "        text-align: right;\n",
       "    }\n",
       "</style>\n",
       "<table border=\"1\" class=\"dataframe\">\n",
       "  <thead>\n",
       "    <tr style=\"text-align: right;\">\n",
       "      <th></th>\n",
       "      <th>ТО</th>\n",
       "      <th>ВС</th>\n",
       "      <th>стоимость_SVO</th>\n",
       "      <th>стоимость_DME</th>\n",
       "      <th>стоимость_VKO</th>\n",
       "      <th>Авиакомпания</th>\n",
       "      <th>Потребность авиакомпании, штук</th>\n",
       "      <th>minimum plan</th>\n",
       "      <th>serviced</th>\n",
       "      <th>dlina</th>\n",
       "      <th>...</th>\n",
       "      <th>SVO_rating</th>\n",
       "      <th>DME_rating</th>\n",
       "      <th>VKO_rating</th>\n",
       "      <th>days_since_start</th>\n",
       "      <th>SVO</th>\n",
       "      <th>DME</th>\n",
       "      <th>VKO</th>\n",
       "      <th>in_service</th>\n",
       "      <th>x</th>\n",
       "      <th>y</th>\n",
       "    </tr>\n",
       "  </thead>\n",
       "  <tbody>\n",
       "    <tr>\n",
       "      <th>0</th>\n",
       "      <td>C-Check</td>\n",
       "      <td>A319</td>\n",
       "      <td>30000</td>\n",
       "      <td>30000</td>\n",
       "      <td>28000</td>\n",
       "      <td>C7</td>\n",
       "      <td>1</td>\n",
       "      <td>1</td>\n",
       "      <td>0</td>\n",
       "      <td>33.84</td>\n",
       "      <td>...</td>\n",
       "      <td>586.264</td>\n",
       "      <td>586.264</td>\n",
       "      <td>547.18</td>\n",
       "      <td>0</td>\n",
       "      <td>1</td>\n",
       "      <td>0</td>\n",
       "      <td>0</td>\n",
       "      <td>0</td>\n",
       "      <td>-1.0</td>\n",
       "      <td>-1.0</td>\n",
       "    </tr>\n",
       "    <tr>\n",
       "      <th>1</th>\n",
       "      <td>D-Check</td>\n",
       "      <td>A319</td>\n",
       "      <td>40000</td>\n",
       "      <td>0</td>\n",
       "      <td>39000</td>\n",
       "      <td>C7</td>\n",
       "      <td>2</td>\n",
       "      <td>2</td>\n",
       "      <td>0</td>\n",
       "      <td>33.84</td>\n",
       "      <td>...</td>\n",
       "      <td>1340.1</td>\n",
       "      <td>0</td>\n",
       "      <td>1306.59</td>\n",
       "      <td>0</td>\n",
       "      <td>1</td>\n",
       "      <td>0</td>\n",
       "      <td>0</td>\n",
       "      <td>0</td>\n",
       "      <td>-1.0</td>\n",
       "      <td>-1.0</td>\n",
       "    </tr>\n",
       "    <tr>\n",
       "      <th>2</th>\n",
       "      <td>D-Check</td>\n",
       "      <td>A319</td>\n",
       "      <td>40000</td>\n",
       "      <td>0</td>\n",
       "      <td>39000</td>\n",
       "      <td>C7</td>\n",
       "      <td>2</td>\n",
       "      <td>2</td>\n",
       "      <td>0</td>\n",
       "      <td>33.84</td>\n",
       "      <td>...</td>\n",
       "      <td>1340.1</td>\n",
       "      <td>0</td>\n",
       "      <td>1306.59</td>\n",
       "      <td>0</td>\n",
       "      <td>1</td>\n",
       "      <td>0</td>\n",
       "      <td>0</td>\n",
       "      <td>0</td>\n",
       "      <td>-1.0</td>\n",
       "      <td>-1.0</td>\n",
       "    </tr>\n",
       "    <tr>\n",
       "      <th>3</th>\n",
       "      <td>C-Check</td>\n",
       "      <td>A319</td>\n",
       "      <td>30000</td>\n",
       "      <td>30000</td>\n",
       "      <td>28000</td>\n",
       "      <td>Уральские Авиалинии</td>\n",
       "      <td>2</td>\n",
       "      <td>1</td>\n",
       "      <td>0</td>\n",
       "      <td>33.84</td>\n",
       "      <td>...</td>\n",
       "      <td>460.773</td>\n",
       "      <td>460.773</td>\n",
       "      <td>430.055</td>\n",
       "      <td>0</td>\n",
       "      <td>1</td>\n",
       "      <td>0</td>\n",
       "      <td>0</td>\n",
       "      <td>0</td>\n",
       "      <td>-1.0</td>\n",
       "      <td>-1.0</td>\n",
       "    </tr>\n",
       "    <tr>\n",
       "      <th>4</th>\n",
       "      <td>C-Check</td>\n",
       "      <td>A319</td>\n",
       "      <td>30000</td>\n",
       "      <td>30000</td>\n",
       "      <td>28000</td>\n",
       "      <td>Уральские Авиалинии</td>\n",
       "      <td>2</td>\n",
       "      <td>1</td>\n",
       "      <td>0</td>\n",
       "      <td>33.84</td>\n",
       "      <td>...</td>\n",
       "      <td>460.773</td>\n",
       "      <td>460.773</td>\n",
       "      <td>430.055</td>\n",
       "      <td>0</td>\n",
       "      <td>1</td>\n",
       "      <td>0</td>\n",
       "      <td>0</td>\n",
       "      <td>0</td>\n",
       "      <td>-1.0</td>\n",
       "      <td>-1.0</td>\n",
       "    </tr>\n",
       "    <tr>\n",
       "      <th>...</th>\n",
       "      <td>...</td>\n",
       "      <td>...</td>\n",
       "      <td>...</td>\n",
       "      <td>...</td>\n",
       "      <td>...</td>\n",
       "      <td>...</td>\n",
       "      <td>...</td>\n",
       "      <td>...</td>\n",
       "      <td>...</td>\n",
       "      <td>...</td>\n",
       "      <td>...</td>\n",
       "      <td>...</td>\n",
       "      <td>...</td>\n",
       "      <td>...</td>\n",
       "      <td>...</td>\n",
       "      <td>...</td>\n",
       "      <td>...</td>\n",
       "      <td>...</td>\n",
       "      <td>...</td>\n",
       "      <td>...</td>\n",
       "      <td>...</td>\n",
       "    </tr>\n",
       "    <tr>\n",
       "      <th>235</th>\n",
       "      <td>Painting</td>\n",
       "      <td>737-300</td>\n",
       "      <td>19000</td>\n",
       "      <td>18000</td>\n",
       "      <td>15000</td>\n",
       "      <td>Победа</td>\n",
       "      <td>3</td>\n",
       "      <td>0</td>\n",
       "      <td>0</td>\n",
       "      <td>33.25</td>\n",
       "      <td>...</td>\n",
       "      <td>156.983</td>\n",
       "      <td>148.72</td>\n",
       "      <td>123.934</td>\n",
       "      <td>0</td>\n",
       "      <td>1</td>\n",
       "      <td>0</td>\n",
       "      <td>0</td>\n",
       "      <td>0</td>\n",
       "      <td>-1.0</td>\n",
       "      <td>-1.0</td>\n",
       "    </tr>\n",
       "    <tr>\n",
       "      <th>236</th>\n",
       "      <td>C-Check</td>\n",
       "      <td>737-300</td>\n",
       "      <td>0</td>\n",
       "      <td>32000</td>\n",
       "      <td>32000</td>\n",
       "      <td>Победа</td>\n",
       "      <td>4</td>\n",
       "      <td>2</td>\n",
       "      <td>0</td>\n",
       "      <td>33.25</td>\n",
       "      <td>...</td>\n",
       "      <td>0</td>\n",
       "      <td>969.442</td>\n",
       "      <td>969.442</td>\n",
       "      <td>0</td>\n",
       "      <td>0</td>\n",
       "      <td>1</td>\n",
       "      <td>0</td>\n",
       "      <td>0</td>\n",
       "      <td>-1.0</td>\n",
       "      <td>-1.0</td>\n",
       "    </tr>\n",
       "    <tr>\n",
       "      <th>237</th>\n",
       "      <td>C-Check</td>\n",
       "      <td>737-300</td>\n",
       "      <td>0</td>\n",
       "      <td>32000</td>\n",
       "      <td>32000</td>\n",
       "      <td>Победа</td>\n",
       "      <td>4</td>\n",
       "      <td>2</td>\n",
       "      <td>0</td>\n",
       "      <td>33.25</td>\n",
       "      <td>...</td>\n",
       "      <td>0</td>\n",
       "      <td>969.442</td>\n",
       "      <td>969.442</td>\n",
       "      <td>0</td>\n",
       "      <td>0</td>\n",
       "      <td>1</td>\n",
       "      <td>0</td>\n",
       "      <td>0</td>\n",
       "      <td>-1.0</td>\n",
       "      <td>-1.0</td>\n",
       "    </tr>\n",
       "    <tr>\n",
       "      <th>238</th>\n",
       "      <td>C-Check</td>\n",
       "      <td>737-300</td>\n",
       "      <td>0</td>\n",
       "      <td>32000</td>\n",
       "      <td>32000</td>\n",
       "      <td>Победа</td>\n",
       "      <td>4</td>\n",
       "      <td>2</td>\n",
       "      <td>0</td>\n",
       "      <td>33.25</td>\n",
       "      <td>...</td>\n",
       "      <td>0</td>\n",
       "      <td>969.442</td>\n",
       "      <td>969.442</td>\n",
       "      <td>0</td>\n",
       "      <td>0</td>\n",
       "      <td>1</td>\n",
       "      <td>0</td>\n",
       "      <td>0</td>\n",
       "      <td>-1.0</td>\n",
       "      <td>-1.0</td>\n",
       "    </tr>\n",
       "    <tr>\n",
       "      <th>239</th>\n",
       "      <td>C-Check</td>\n",
       "      <td>737-300</td>\n",
       "      <td>0</td>\n",
       "      <td>32000</td>\n",
       "      <td>32000</td>\n",
       "      <td>Победа</td>\n",
       "      <td>4</td>\n",
       "      <td>2</td>\n",
       "      <td>0</td>\n",
       "      <td>33.25</td>\n",
       "      <td>...</td>\n",
       "      <td>0</td>\n",
       "      <td>969.442</td>\n",
       "      <td>969.442</td>\n",
       "      <td>0</td>\n",
       "      <td>0</td>\n",
       "      <td>1</td>\n",
       "      <td>0</td>\n",
       "      <td>0</td>\n",
       "      <td>-1.0</td>\n",
       "      <td>-1.0</td>\n",
       "    </tr>\n",
       "  </tbody>\n",
       "</table>\n",
       "<p>240 rows × 32 columns</p>\n",
       "</div>"
      ],
      "text/plain": [
       "           ТО       ВС стоимость_SVO стоимость_DME стоимость_VKO  \\\n",
       "0     C-Check     A319         30000         30000         28000   \n",
       "1     D-Check     A319         40000             0         39000   \n",
       "2     D-Check     A319         40000             0         39000   \n",
       "3     C-Check     A319         30000         30000         28000   \n",
       "4     C-Check     A319         30000         30000         28000   \n",
       "..        ...      ...           ...           ...           ...   \n",
       "235  Painting  737-300         19000         18000         15000   \n",
       "236   C-Check  737-300             0         32000         32000   \n",
       "237   C-Check  737-300             0         32000         32000   \n",
       "238   C-Check  737-300             0         32000         32000   \n",
       "239   C-Check  737-300             0         32000         32000   \n",
       "\n",
       "            Авиакомпания Потребность авиакомпании, штук minimum plan serviced  \\\n",
       "0                     C7                              1            1        0   \n",
       "1                     C7                              2            2        0   \n",
       "2                     C7                              2            2        0   \n",
       "3    Уральские Авиалинии                              2            1        0   \n",
       "4    Уральские Авиалинии                              2            1        0   \n",
       "..                   ...                            ...          ...      ...   \n",
       "235               Победа                              3            0        0   \n",
       "236               Победа                              4            2        0   \n",
       "237               Победа                              4            2        0   \n",
       "238               Победа                              4            2        0   \n",
       "239               Победа                              4            2        0   \n",
       "\n",
       "     dlina  ... SVO_rating DME_rating VKO_rating days_since_start SVO DME VKO  \\\n",
       "0    33.84  ...    586.264    586.264     547.18                0   1   0   0   \n",
       "1    33.84  ...     1340.1          0    1306.59                0   1   0   0   \n",
       "2    33.84  ...     1340.1          0    1306.59                0   1   0   0   \n",
       "3    33.84  ...    460.773    460.773    430.055                0   1   0   0   \n",
       "4    33.84  ...    460.773    460.773    430.055                0   1   0   0   \n",
       "..     ...  ...        ...        ...        ...              ...  ..  ..  ..   \n",
       "235  33.25  ...    156.983     148.72    123.934                0   1   0   0   \n",
       "236  33.25  ...          0    969.442    969.442                0   0   1   0   \n",
       "237  33.25  ...          0    969.442    969.442                0   0   1   0   \n",
       "238  33.25  ...          0    969.442    969.442                0   0   1   0   \n",
       "239  33.25  ...          0    969.442    969.442                0   0   1   0   \n",
       "\n",
       "    in_service    x    y  \n",
       "0            0 -1.0 -1.0  \n",
       "1            0 -1.0 -1.0  \n",
       "2            0 -1.0 -1.0  \n",
       "3            0 -1.0 -1.0  \n",
       "4            0 -1.0 -1.0  \n",
       "..         ...  ...  ...  \n",
       "235          0 -1.0 -1.0  \n",
       "236          0 -1.0 -1.0  \n",
       "237          0 -1.0 -1.0  \n",
       "238          0 -1.0 -1.0  \n",
       "239          0 -1.0 -1.0  \n",
       "\n",
       "[240 rows x 32 columns]"
      ]
     },
     "execution_count": 365,
     "metadata": {},
     "output_type": "execute_result"
    }
   ],
   "source": [
    "SVO_packing(df)"
   ]
  },
  {
   "cell_type": "code",
   "execution_count": 366,
   "metadata": {
    "ExecuteTime": {
     "end_time": "2020-05-10T07:20:09.306348Z",
     "start_time": "2020-05-10T07:20:09.294885Z"
    }
   },
   "outputs": [],
   "source": [
    "def DME_packing(df): \n",
    "\n",
    "    DME_hangar = df.query('DME == 1 and in_service == 0 and serviced == 0')\n",
    "    DME_hangar.sort_values(by='DME_rating', ascending = False, inplace = True) \n",
    "\n",
    "    plane_to_DME = DME_hangar.index #индексы DF самолетов - претендентов на ангар DME\n",
    "\n",
    "    DME_plan = greedypacker.BinManager(DME_deep, DME_width, pack_algo='guillotine', heuristic='best_longside', rectangle_merge=True, rotation=True)\n",
    "\n",
    "    levels = 1 # количество уровней размещения самолетов в ангаре (выбран 1)\n",
    "\n",
    "    plane = 0 #счетчик самолетов по списку претендентов\n",
    "    \n",
    "    while len(DME_plan.bins) <= levels: #пока не заполниться первый ряд\n",
    "\n",
    "            plane_width = DME_hangar['razmah'][plane_to_DME[plane]]\n",
    "            plane_length = DME_hangar['dlina'][plane_to_DME[plane]]\n",
    "\n",
    "            DME_plan.add_items(greedypacker.Item(plane_width, plane_length))\n",
    "            DME_plan.execute()\n",
    "            plane += 1\n",
    "\n",
    "    items = str(DME_plan.bins[0]).split('Item')[1:]\n",
    "    template = r'[a-zA-Z,=,(,)]'\n",
    "\n",
    "    for item in items: \n",
    "        position = re.sub(template,'',item)\n",
    "        position = re.sub(']','',position).split(' ')\n",
    "\n",
    "        for plane in plane_to_DME:\n",
    "\n",
    "            razmah = round(df.loc[plane]['razmah'],2)\n",
    "            dlina = round(df.loc[plane]['dlina'],2)\n",
    "\n",
    "            if all([razmah == float(position[0]), dlina == float(position[1]), float(df.loc[plane]['in_service']) == 0]):\n",
    "                df.loc[plane,'x'] = float(position[2])\n",
    "                df.loc[plane,'y'] = float(position[3])\n",
    "                df.loc[plane,'in_service'] = 1\n",
    "                break\n",
    "            else:\n",
    "                continue      \n",
    "    return df"
   ]
  },
  {
   "cell_type": "code",
   "execution_count": 367,
   "metadata": {
    "ExecuteTime": {
     "end_time": "2020-05-10T07:20:09.456072Z",
     "start_time": "2020-05-10T07:20:09.314042Z"
    }
   },
   "outputs": [
    {
     "name": "stdout",
     "output_type": "stream",
     "text": [
      "Guillotine([Item(width=34.1, height=37.57, x=0, y=0), Item(width=34.1, height=37.57, x=34.1, y=0), Item(width=34.1, height=37.57, x=0, y=37.57), Item(width=34.1, height=33.84, x=34.1, y=37.57), Item(width=34.1, height=33.84, x=0, y=75.14)])\n"
     ]
    }
   ],
   "source": [
    "df = SVO_packing(df)\n",
    "#df = SVO_packing(df)"
   ]
  },
  {
   "cell_type": "code",
   "execution_count": 368,
   "metadata": {
    "ExecuteTime": {
     "end_time": "2020-05-10T07:20:09.483658Z",
     "start_time": "2020-05-10T07:20:09.464213Z"
    }
   },
   "outputs": [],
   "source": [
    "def check_out(df):\n",
    "    check_out = df.query('in_service == 1').duration.min()\n",
    "    df[(df.duration == check_out) & (df.in_service == 1)]['serviced'] = 1"
   ]
  },
  {
   "cell_type": "code",
   "execution_count": 225,
   "metadata": {
    "ExecuteTime": {
     "end_time": "2020-05-10T00:34:30.176386Z",
     "start_time": "2020-05-10T00:34:30.038954Z"
    }
   },
   "outputs": [],
   "source": [
    "DME_hangar = df.query('DME == 1 and in_service == 0 and serviced == 0')\n",
    "DME_hangar.sort_values(by='DME_rating', ascending = False, inplace = True) \n",
    "\n",
    "plane_to_DME = DME_hangar.index #индексы DF самолетов - претендентов на ангар DME\n",
    "\n",
    "DME_plan = greedypacker.BinManager(DME_deep, DME_width, pack_algo='guillotine', heuristic='best_longside', rectangle_merge=True, rotation=True)\n",
    "\n",
    "levels = 1 # количество уровней размещения самолетов в ангаре (выбран 1 этаж)\n",
    "\n",
    "plane = 0 #счетчик самолетов по списку претендентов на ремонт\n",
    "    \n",
    "temp_list = []\n",
    "while len(DME_plan.bins) <= levels: #пока не заполниться первый ряд\n",
    "    \n",
    "    plane_width = DME_hangar['razmah'][plane_to_DME[plane]]\n",
    "    plane_length = DME_hangar['dlina'][plane_to_DME[plane]]\n",
    "    \n",
    "    DME_plan.add_items(greedypacker.Item(plane_width, plane_length))\n",
    "    DME_plan.execute()\n",
    "    plane += 1\n",
    "\n",
    "items = str(DME_plan.bins[0]).split('Item')[1:]\n",
    "template = r'[a-zA-Z,=,(,)]'\n",
    "\n",
    "for item in items: \n",
    "    position = re.sub(template,'',item)\n",
    "    position = re.sub(']','',position).split(' ')\n",
    "\n",
    "    for plane in plane_to_DME:\n",
    "\n",
    "        razmah = round(df.loc[plane]['razmah'],2)\n",
    "        dlina = round(df.loc[plane]['dlina'],2)\n",
    "\n",
    "        if all([razmah == float(position[0]), dlina == float(position[1]), float(df.loc[plane]['in_service']) == 0]):\n",
    "            df.loc[plane,'x'] = float(position[2])\n",
    "            df.loc[plane,'y'] = float(position[3])\n",
    "            df.loc[plane,'in_service'] = 1\n",
    "            break\n",
    "        else:\n",
    "            continue "
   ]
  },
  {
   "cell_type": "code",
   "execution_count": 370,
   "metadata": {
    "ExecuteTime": {
     "end_time": "2020-05-10T07:21:24.223987Z",
     "start_time": "2020-05-10T07:21:23.977667Z"
    }
   },
   "outputs": [],
   "source": [
    "VKO_width = 150\n",
    "VKO_deep = 70\n",
    "VKO_area = DME_width * DME_deep\n",
    "\n",
    "VKO_hangar = df.query('VKO == 1 and in_service == 0 and serviced == 0')\n",
    "VKO_hangar.sort_values(by='VKO_rating', ascending = False, inplace = True) \n",
    "\n",
    "plane_to_VKO = VKO_hangar.index #индексы DF самолетов - претендентов на ангар DME\n",
    "\n",
    "VKO_plan = greedypacker.BinManager(VKO_deep, VKO_width, pack_algo='guillotine', heuristic='best_longside', rectangle_merge=True, rotation=True)\n",
    "\n",
    "levels = 1 # количество уровней размещения самолетов в ангаре (выбран 1 этаж)\n",
    "\n",
    "plane = 0 #счетчик самолетов по списку претендентов на ремонт\n",
    "    \n",
    "temp_list = []\n",
    "while len(VKO_plan.bins) <= levels: #пока не заполниться первый ряд\n",
    "    \n",
    "    plane_width = VKO_hangar['razmah'][plane_to_VKO[plane]]\n",
    "    plane_length = VKO_hangar['dlina'][plane_to_VKO[plane]]\n",
    "    \n",
    "    VKO_plan.add_items(greedypacker.Item(plane_width, plane_length))\n",
    "    VKO_plan.execute()\n",
    "    plane += 1\n",
    "\n",
    "items = str(VKO_plan.bins[0]).split('Item')[1:]\n",
    "template = r'[a-zA-Z,=,(,)]'\n",
    "\n",
    "for item in items: \n",
    "    position = re.sub(template,'',item)\n",
    "    position = re.sub(']','',position).split(' ')\n",
    "\n",
    "    for plane in plane_to_VKO:\n",
    "\n",
    "        razmah = round(df.loc[plane]['razmah'],2)\n",
    "        dlina = round(df.loc[plane]['dlina'],2)\n",
    "\n",
    "        if all([razmah == float(position[0]), dlina == float(position[1]), float(df.loc[plane]['in_service']) == 0]):\n",
    "            df.loc[plane,'x'] = float(position[2])\n",
    "            df.loc[plane,'y'] = float(position[3])\n",
    "            df.loc[plane,'in_service'] = 1\n",
    "            break\n",
    "        else:\n",
    "            continue "
   ]
  },
  {
   "cell_type": "code",
   "execution_count": 381,
   "metadata": {
    "ExecuteTime": {
     "end_time": "2020-05-10T07:28:53.789319Z",
     "start_time": "2020-05-10T07:28:53.782094Z"
    }
   },
   "outputs": [],
   "source": [
    "VKO_plan.bins[0] = VKO_plan.execute()"
   ]
  },
  {
   "cell_type": "code",
   "execution_count": 383,
   "metadata": {
    "ExecuteTime": {
     "end_time": "2020-05-10T07:29:09.675000Z",
     "start_time": "2020-05-10T07:29:09.670680Z"
    }
   },
   "outputs": [],
   "source": [
    "VKO_plan.bins[0]"
   ]
  },
  {
   "cell_type": "code",
   "execution_count": null,
   "metadata": {},
   "outputs": [],
   "source": []
  }
 ],
 "metadata": {
  "kernelspec": {
   "display_name": "Python 3",
   "language": "python",
   "name": "python3"
  },
  "language_info": {
   "codemirror_mode": {
    "name": "ipython",
    "version": 3
   },
   "file_extension": ".py",
   "mimetype": "text/x-python",
   "name": "python",
   "nbconvert_exporter": "python",
   "pygments_lexer": "ipython3",
   "version": "3.7.6"
  },
  "toc": {
   "base_numbering": 1,
   "nav_menu": {},
   "number_sections": true,
   "sideBar": true,
   "skip_h1_title": false,
   "title_cell": "Table of Contents",
   "title_sidebar": "Contents",
   "toc_cell": false,
   "toc_position": {},
   "toc_section_display": true,
   "toc_window_display": false
  },
  "varInspector": {
   "cols": {
    "lenName": 16,
    "lenType": 16,
    "lenVar": 40
   },
   "kernels_config": {
    "python": {
     "delete_cmd_postfix": "",
     "delete_cmd_prefix": "del ",
     "library": "var_list.py",
     "varRefreshCmd": "print(var_dic_list())"
    },
    "r": {
     "delete_cmd_postfix": ") ",
     "delete_cmd_prefix": "rm(",
     "library": "var_list.r",
     "varRefreshCmd": "cat(var_dic_list()) "
    }
   },
   "types_to_exclude": [
    "module",
    "function",
    "builtin_function_or_method",
    "instance",
    "_Feature"
   ],
   "window_display": false
  }
 },
 "nbformat": 4,
 "nbformat_minor": 4
}
